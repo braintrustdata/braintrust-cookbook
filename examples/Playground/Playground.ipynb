{
 "cells": [
  {
   "cell_type": "markdown",
   "metadata": {},
   "source": [
    "# Comparing models in the playground"
   ]
  },
  {
   "cell_type": "markdown",
   "metadata": {},
   "source": [
    "When building AI applications, it's essential to understand the differences between available models. Models vary in performance, cost, and behavior. In this cookbook, we'll explore how to use the [prompt playground](/docs/guides/playground) to compare model performance across a dataset, enabling you to select the model that best fits your needs."
   ]
  },
  {
   "cell_type": "markdown",
   "metadata": {},
   "source": [
    "## Getting started\n",
    "\n",
    "Before you begin, create a Braintrust account and obtain API keys for the model providers you plan to use. After signing up, plug your API keys into your Braintrust account's [AI providers](/app/settings?subroute=secrets) configuration. We'll work entirely in the platform UI for this cookbook, so there is no need for an external code editor.\n",
    "\n",
    "![providers](./assets/providers.png)"
   ]
  },
  {
   "cell_type": "markdown",
   "metadata": {},
   "source": [
    "## Setting up your project\n",
    "\n",
    "After configuring your API providers, you'll first want to create a new project. Select the logo in the top left corner of the screen, then choose the option for a new project on the right. Name your project \"Playground Cookbook\"."
   ]
  },
  {
   "cell_type": "markdown",
   "metadata": {},
   "source": [
    "## Uploading your dataset\n",
    "\n",
    "With your project set up, the next step is to upload a dataset. For this cookbook, we'll be using the [TruthfulQA dataset](https://huggingface.co/datasets/domenicrosati/TruthfulQA/tree/main). To upload the dataset, hover over **Library** in the navigation bar and select **Datasets**. Once on the datasets page, select the **+ Dataset** button, provide a name for your dataset, and confirm its creation. Then upload your `.CSV` file. After uploading the file, categorize the fields in the dataset based on input, expected output, and metadata as shown below: "
   ]
  },
  {
   "cell_type": "markdown",
   "metadata": {},
   "source": [
    "![upload](./assets/upload.png)\n",
    "\n",
    "\n"
   ]
  },
  {
   "cell_type": "markdown",
   "metadata": {},
   "source": [
    "## Creating a scorer\n",
    "\n",
    "Next, create a scorer to evaluate model responses. Hover over the **library** tab in the navigation bar and select **Scorers**. On the scorer page, select the **+ Scorer** button, provide a name for your scorer, and confirm its creation. Configure your scorer by adding choice scores based on the dataset's variations of correct and incorrect answers.\n",
    "\n",
    "You can copy and paste the prompts below into your scorer:"
   ]
  },
  {
   "cell_type": "code",
   "execution_count": null,
   "metadata": {},
   "outputs": [],
   "source": [
    "Your job is to determine whether the LLM's response to the questions is correct or incorrect"
   ]
  },
  {
   "cell_type": "code",
   "execution_count": null,
   "metadata": {},
   "outputs": [],
   "source": [
    "The expected answer is {{expected}}\n",
    "\n",
    "Other correct answers include {{metadata.Correct Answers}}\n",
    "\n",
    "Incorrect answers include {{metadata.Incorrect Answers}}\n",
    "\n",
    "If you believe the output is correct, output \"1\". Nothing else, just the number 1\n",
    "\n",
    "If you believe the output is incorrect, output \"0\". Nothing else, just the number 0\n",
    "\n"
   ]
  },
  {
   "cell_type": "markdown",
   "metadata": {},
   "source": [
    "![scorer](./assets/scorer.png)"
   ]
  },
  {
   "cell_type": "markdown",
   "metadata": {},
   "source": [
    "## Creating the playground\n",
    "\n",
    "With the dataset and scorer in place, proceed to create a playground. Navigate to the **Evaluations** tab in the navigation bar and select **Playgrounds**. Select the **+ Playground** button, name your playground, and confirm its creation. In the playground, choose your dataset, custom scorer, and the model you want to use.\n",
    "\n",
    "Remove the system prompt and, add a user prompt, then the following line:"
   ]
  },
  {
   "cell_type": "code",
   "execution_count": null,
   "metadata": {},
   "outputs": [],
   "source": [
    "Answer the following question: {{input}}"
   ]
  },
  {
   "cell_type": "markdown",
   "metadata": {},
   "source": [
    "After adding the prompt, duplicate it to include multiple models for comparison. Once all desired models are in view, start an experiment by selecting the **+ Experiment** button. This will launch evaluations for each model, allowing you to compare their performance across the dataset.\n",
    "\n",
    "![experiment](./assets/experiment.gif)"
   ]
  },
  {
   "cell_type": "markdown",
   "metadata": {},
   "source": [
    "## Analyzing the results\n",
    "\n",
    "You'll be able to see the results of your evaluation, along with a nice diff between the models and their performance on any given question. Additionally, by kicking off a full experiment, you can do a deep dive into each run, filter by any metric, and see into the chat completions."
   ]
  },
  {
   "cell_type": "markdown",
   "metadata": {},
   "source": [
    "![dif](./assets/dif.png)"
   ]
  },
  {
   "cell_type": "markdown",
   "metadata": {},
   "source": [
    "### Next steps\n",
    "\n",
    "- Programmatically [upload your own datasets](https://huggingface.co/datasets/domenicrosati/TruthfulQA/tree/main)\n",
    "- Kick off an [experiment in code](/docs/guides/evals/write)\n",
    "- [I ran an eval. Now what?](/blog/after-evals)\n"
   ]
  }
 ],
 "metadata": {
  "kernelspec": {
   "display_name": "venv",
   "language": "python",
   "name": "python3"
  },
  "language_info": {
   "codemirror_mode": {
    "name": "ipython",
    "version": 3
   },
   "file_extension": ".py",
   "mimetype": "text/x-python",
   "name": "python",
   "nbconvert_exporter": "python",
   "pygments_lexer": "ipython3",
   "version": "3.11.9"
  }
 },
 "nbformat": 4,
 "nbformat_minor": 2
}
