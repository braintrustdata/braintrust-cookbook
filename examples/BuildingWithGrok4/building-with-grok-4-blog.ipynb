{
 "cells": [
  {
   "cell_type": "markdown",
   "id": "62ecf774",
   "metadata": {},
   "source": [
    "## Building with Grok 4\n",
    "\n",
    "This is the accompanying code for the blog post [Building with Grok 4](https://www.braintrust.dev/blog/grok-4).\n"
   ]
  },
  {
   "cell_type": "code",
   "execution_count": 1,
   "id": "bc9de267",
   "metadata": {},
   "outputs": [
    {
     "name": "stderr",
     "output_type": "stream",
     "text": [
      "/Users/wgilliam/development/braintrust/bt-examples/.venv/lib/python3.12/site-packages/tqdm/auto.py:21: TqdmWarning: IProgress not found. Please update jupyter and ipywidgets. See https://ipywidgets.readthedocs.io/en/stable/user_install.html\n",
      "  from .autonotebook import tqdm as notebook_tqdm\n"
     ]
    },
    {
     "data": {
      "text/plain": [
       "True"
      ]
     },
     "execution_count": 1,
     "metadata": {},
     "output_type": "execute_result"
    }
   ],
   "source": [
    "import base64\n",
    "import json\n",
    "import os\n",
    "from datetime import datetime\n",
    "from functools import partial\n",
    "from textwrap import dedent\n",
    "\n",
    "import braintrust as bt\n",
    "import cairosvg\n",
    "from anthropic import Anthropic\n",
    "from autoevals import Score\n",
    "from dotenv import load_dotenv\n",
    "from IPython.display import SVG, Image, Markdown, display\n",
    "from openai import OpenAI\n",
    "\n",
    "load_dotenv()\n"
   ]
  },
  {
   "cell_type": "markdown",
   "id": "ebecffa0",
   "metadata": {},
   "source": [
    "## Config\n"
   ]
  },
  {
   "cell_type": "code",
   "execution_count": 2,
   "id": "2f2f1830",
   "metadata": {},
   "outputs": [],
   "source": [
    "BT_PROJECT_NAME = \"wayde-bt-new-model-benchmark\""
   ]
  },
  {
   "cell_type": "markdown",
   "id": "663a7164",
   "metadata": {},
   "source": [
    "## Setup\n"
   ]
  },
  {
   "cell_type": "code",
   "execution_count": null,
   "id": "a89d1cf2",
   "metadata": {},
   "outputs": [],
   "source": [
    "bt_project = bt.projects.create(name=BT_PROJECT_NAME)\n",
    "\n",
    "grok_client = OpenAI(api_key=os.getenv(\"XAI_API_KEY\"), base_url=\"https://api.x.ai/v1\")\n",
    "openai_client = OpenAI(api_key=os.getenv(\"OPENAI_API_KEY\"))\n",
    "anthropic_client = OpenAI(api_key=os.getenv(\"ANTHROPIC_API_KEY\"), base_url=\"https://api.anthropic.com/v1\")\n"
   ]
  },
  {
   "cell_type": "code",
   "execution_count": 4,
   "id": "a2ec5dcb",
   "metadata": {},
   "outputs": [
    {
     "name": "stdout",
     "output_type": "stream",
     "text": [
      "grok-2-1212\n",
      "grok-2-vision-1212\n",
      "grok-3\n",
      "grok-3-fast\n",
      "grok-3-mini\n",
      "grok-3-mini-fast\n",
      "grok-4-0709\n",
      "grok-2-image-1212\n"
     ]
    }
   ],
   "source": [
    "for model in grok_client.models.list():\n",
    "    print(model.id)\n"
   ]
  },
  {
   "cell_type": "code",
   "execution_count": 5,
   "id": "36af3f83",
   "metadata": {},
   "outputs": [],
   "source": [
    "wrapped_grok_client = bt.wrap_openai(grok_client)"
   ]
  },
  {
   "cell_type": "markdown",
   "id": "863d6995",
   "metadata": {},
   "source": [
    "## Tasks\n"
   ]
  },
  {
   "cell_type": "markdown",
   "id": "303549fb",
   "metadata": {},
   "source": [
    "### Create SVG Image\n"
   ]
  },
  {
   "cell_type": "code",
   "execution_count": 6,
   "id": "e8c0f777",
   "metadata": {},
   "outputs": [],
   "source": [
    "@bt.traced()\n",
    "def create_svg_image(image_description: str, client, model_name: str, generation_kwargs: dict = {}):\n",
    "    rsp = client.chat.completions.create(\n",
    "        model=model_name,\n",
    "        messages=[{\"role\": \"user\", \"content\": image_description}],\n",
    "        **generation_kwargs,\n",
    "    )\n",
    "\n",
    "    # Extract svg content - handle both markdown wrapped and plain SVG\n",
    "    content = rsp.choices[0].message.content  # type: ignore\n",
    "\n",
    "    # Remove markdown code blocks if present\n",
    "    if content.startswith(\"```svg\"):\n",
    "        content = content.strip(\"```svg\\n\").strip(\"\\n```\")\n",
    "    elif content.startswith(\"```\"):\n",
    "        content = content.strip(\"```\\n\").strip(\"\\n```\")\n",
    "\n",
    "    # Find SVG content if it's embedded in text\n",
    "    if \"<svg\" in content:\n",
    "        start = content.find(\"<svg\")\n",
    "        end = content.find(\"</svg>\") + 6\n",
    "        if start != -1 and end != 5:  # end != 5 means </svg> was found\n",
    "            content = content[start:end]\n",
    "\n",
    "    svg_string = content.strip()\n",
    "\n",
    "    return svg_string\n"
   ]
  },
  {
   "cell_type": "code",
   "execution_count": 7,
   "id": "736bd2cb",
   "metadata": {},
   "outputs": [
    {
     "data": {
      "image/svg+xml": [
       "<svg xmlns=\"http://www.w3.org/2000/svg\" width=\"400\" height=\"300\" viewBox=\"0 0 400 300\">\n",
       "  <!-- Background -->\n",
       "  <rect width=\"400\" height=\"300\" fill=\"#87CEEB\"/>\n",
       "\n",
       "  <!-- Bicycle Wheels -->\n",
       "  <circle cx=\"100\" cy=\"220\" r=\"40\" fill=\"none\" stroke=\"#000\" stroke-width=\"5\"/>\n",
       "  <circle cx=\"300\" cy=\"220\" r=\"40\" fill=\"none\" stroke=\"#000\" stroke-width=\"5\"/>\n",
       "\n",
       "  <!-- Bicycle Frame -->\n",
       "  <line x1=\"100\" y1=\"220\" x2=\"200\" y2=\"140\" stroke=\"#FF0000\" stroke-width=\"8\"/>\n",
       "  <line x1=\"200\" y1=\"140\" x2=\"300\" y2=\"220\" stroke=\"#FF0000\" stroke-width=\"8\"/>\n",
       "  <line x1=\"150\" y1=\"220\" x2=\"250\" y2=\"220\" stroke=\"#FF0000\" stroke-width=\"8\"/>\n",
       "  <line x1=\"200\" y1=\"140\" x2=\"200\" y2=\"220\" stroke=\"#FF0000\" stroke-width=\"8\"/>\n",
       "\n",
       "  <!-- Seat -->\n",
       "  <rect x=\"185\" y=\"120\" width=\"30\" height=\"10\" fill=\"#000\"/>\n",
       "\n",
       "  <!-- Handlebars -->\n",
       "  <line x1=\"200\" y1=\"140\" x2=\"230\" y2=\"110\" stroke=\"#000\" stroke-width=\"5\"/>\n",
       "  <line x1=\"230\" y1=\"110\" x2=\"260\" y2=\"130\" stroke=\"#000\" stroke-width=\"5\"/>\n",
       "\n",
       "  <!-- Pedals (simplified) -->\n",
       "  <circle cx=\"200\" cy=\"220\" r=\"5\" fill=\"#000\"/>\n",
       "  <line x1=\"200\" y1=\"220\" x2=\"180\" y2=\"240\" stroke=\"#000\" stroke-width=\"3\"/>\n",
       "  <line x1=\"200\" y1=\"220\" x2=\"220\" y2=\"200\" stroke=\"#000\" stroke-width=\"3\"/>\n",
       "\n",
       "  <!-- Pelican Body -->\n",
       "  <ellipse cx=\"200\" cy=\"100\" rx=\"50\" ry=\"70\" fill=\"#FFF\" stroke=\"#000\" stroke-width=\"3\"/>\n",
       "\n",
       "  <!-- Pelican Head -->\n",
       "  <circle cx=\"200\" cy=\"40\" r=\"20\" fill=\"#FFF\" stroke=\"#000\" stroke-width=\"3\"/>\n",
       "\n",
       "  <!-- Pelican Beak -->\n",
       "  <path d=\"M200 40 L260 50 L200 60 Z\" fill=\"#FFD700\" stroke=\"#000\" stroke-width=\"2\"/>\n",
       "  <path d=\"M200 50 L260 50 L200 60\" fill=\"#FFCC00\"/>\n",
       "\n",
       "  <!-- Pelican Eye -->\n",
       "  <circle cx=\"210\" cy=\"35\" r=\"3\" fill=\"#000\"/>\n",
       "\n",
       "  <!-- Pelican Wings (simplified) -->\n",
       "  <path d=\"M150 100 Q120 150 150 200\" fill=\"#FFF\" stroke=\"#000\" stroke-width=\"3\"/>\n",
       "  <path d=\"M250 100 Q280 150 250 200\" fill=\"#FFF\" stroke=\"#000\" stroke-width=\"3\"/>\n",
       "  <!-- Wing tips for black feathers -->\n",
       "  <path d=\"M150 200 L130 220 L150 220 Z\" fill=\"#000\"/>\n",
       "  <path d=\"M250 200 L270 220 L250 220 Z\" fill=\"#000\"/>\n",
       "\n",
       "  <!-- Pelican Legs -->\n",
       "  <line x1=\"180\" y1=\"160\" x2=\"180\" y2=\"240\" stroke=\"#FFD700\" stroke-width=\"5\"/>\n",
       "  <line x1=\"220\" y1=\"160\" x2=\"220\" y2=\"200\" stroke=\"#FFD700\" stroke-width=\"5\"/>\n",
       "  <!-- Feet on pedals -->\n",
       "  <path d=\"M175 240 L185 240 L180 250 Z\" fill=\"#FFD700\"/>\n",
       "  <path d=\"M215 200 L225 200 L220 210 Z\" fill=\"#FFD700\"/>\n",
       "\n",
       "  <!-- Pelican \"holding\" handlebars with wing -->\n",
       "  <line x1=\"250\" y1=\"130\" x2=\"240\" y2=\"120\" stroke=\"#000\" stroke-width=\"3\"/>\n",
       "</svg>"
      ],
      "text/plain": [
       "<IPython.core.display.SVG object>"
      ]
     },
     "metadata": {},
     "output_type": "display_data"
    }
   ],
   "source": [
    "svg_string = create_svg_image(\n",
    "    \"Generate an SVG of a pelican riding a bicycle\",\n",
    "    client=wrapped_grok_client,\n",
    "    model_name=\"grok-4-0709\",\n",
    "    generation_kwargs={\"max_tokens\": 10000},\n",
    ")\n",
    "\n",
    "display(SVG(data=svg_string))"
   ]
  },
  {
   "cell_type": "markdown",
   "id": "4ce82e02",
   "metadata": {},
   "source": [
    "### Describe Image\n"
   ]
  },
  {
   "cell_type": "code",
   "execution_count": null,
   "id": "2e1922d4",
   "metadata": {},
   "outputs": [],
   "source": [
    "@bt.traced()\n",
    "def describe_image(image_path: str, client, model_name: str, generation_kwargs: dict = {}):\n",
    "    with open(image_path, \"rb\") as image_file:\n",
    "        image_data = base64.b64encode(image_file.read()).decode()\n",
    "\n",
    "    image_url = f\"data:image/png;base64,{image_data}\"\n",
    "\n",
    "    rsp = client.chat.completions.create(\n",
    "        model=model_name,\n",
    "        messages=[\n",
    "            {\n",
    "                \"role\": \"system\",\n",
    "                \"content\": \"Describe this image in markdown format. Include the following sections: Simple Description, Main Subject, Background and Setting, Style and Tone\\nUse bullet points for all sections after the Simple Description section.\",\n",
    "            },\n",
    "            {\n",
    "                \"role\": \"user\",\n",
    "                \"content\": [\n",
    "                    {\"type\": \"text\", \"text\": \"Describe this image\"},\n",
    "                    {\"type\": \"image_url\", \"image_url\": {\"url\": image_url}},\n",
    "                ],\n",
    "            },\n",
    "        ],\n",
    "        **generation_kwargs,\n",
    "    )\n",
    "\n",
    "    content = rsp.choices[0].message.content  # type: ignore\n",
    "    return image_url, content"
   ]
  },
  {
   "cell_type": "code",
   "execution_count": 9,
   "id": "4e9d9f8e",
   "metadata": {},
   "outputs": [],
   "source": [
    "os.makedirs(\"_temp\", exist_ok=True)\n",
    "png_data = cairosvg.svg2png(bytestring=svg_string.encode(\"utf-8\"))\n",
    "with open(\"_temp/created_image.png\", \"wb\") as f:\n",
    "    f.write(png_data)"
   ]
  },
  {
   "cell_type": "code",
   "execution_count": null,
   "id": "32176632",
   "metadata": {},
   "outputs": [],
   "source": [
    "image_url, description = describe_image(\n",
    "    image_path=\"_temp/created_image.png\",\n",
    "    client=wrapped_grok_client,\n",
    "    model_name=\"grok-4-0709\",\n",
    "    generation_kwargs={\"max_tokens\": 10000},\n",
    ")"
   ]
  },
  {
   "cell_type": "code",
   "execution_count": 11,
   "id": "242ea80a",
   "metadata": {},
   "outputs": [
    {
     "name": "stdout",
     "output_type": "stream",
     "text": [
      "### Simple Description\n",
      "This image is a simple, cartoonish illustration of a white bird with a yellow beak and legs, stylized to appear as if it's riding a red bicycle. The bird's body is egg-shaped, and its legs merge into the bicycle's frame, creating a whimsical and humorous scene set against a plain blue background.\n",
      "\n",
      "### Main Subject\n",
      "- The central figure is a white, egg-shaped bird resembling a stork or heron, with a long yellow beak pointing to the right.\n",
      "- The bird is depicted in a riding posture, with its yellow legs extending down to form part of a red bicycle's structure.\n",
      "- The bicycle has two black-outlined wheels and red frame elements, but no handlebars or seat, emphasizing the bird's integration with the bike.\n",
      "\n",
      "### Background and Setting\n",
      "- The background is a solid, uniform light blue color, providing a clean and minimal canvas.\n",
      "- There are no additional elements like landscapes, objects, or other characters, suggesting an abstract or isolated setting.\n",
      "- The simplicity of the background highlights the subject without distractions, evoking a sense of openness or sky.\n",
      "\n",
      "### Style and Tone\n",
      "- The style is minimalist and illustrative, using bold black outlines, flat colors (white, yellow, red, black), and simple shapes without shading or detail.\n",
      "- It has a cartoonish, vector-art feel, possibly created digitally, with exaggerated proportions for comedic effect.\n",
      "- The tone is whimsical and playful, conveying humor through the absurd concept of a bird riding a bicycle in an anthropomorphic way.\n"
     ]
    }
   ],
   "source": [
    "print(description)"
   ]
  },
  {
   "cell_type": "markdown",
   "id": "c5eb6bca",
   "metadata": {},
   "source": [
    "### Putting it all together\n"
   ]
  },
  {
   "cell_type": "code",
   "execution_count": null,
   "id": "04252056",
   "metadata": {},
   "outputs": [],
   "source": [
    "@bt.traced()\n",
    "def create_and_describe_image(image_description: str, client, model_name: str, generation_kwargs: dict = {}):\n",
    "    # Create SVG Image\n",
    "    svg_string = create_svg_image(\n",
    "        image_description, client=client, model_name=model_name, generation_kwargs=generation_kwargs\n",
    "    )\n",
    "\n",
    "    # Convert SVG to PNG and save\n",
    "    os.makedirs(\"_temp\", exist_ok=True)\n",
    "    png_data = cairosvg.svg2png(bytestring=svg_string.encode(\"utf-8\"))\n",
    "    with open(\"_temp/created_image.png\", \"wb\") as f:\n",
    "        f.write(png_data)\n",
    "\n",
    "    # Ask model to describe the image it created\n",
    "    image_url, description = describe_image(\n",
    "        image_path=\"_temp/created_image.png\", client=client, model_name=model_name, generation_kwargs=generation_kwargs\n",
    "    )\n",
    "\n",
    "    return {\"image_url\": image_url, \"description\": description}"
   ]
  },
  {
   "cell_type": "code",
   "execution_count": null,
   "id": "3d594ce6",
   "metadata": {},
   "outputs": [],
   "source": [
    "image_url"
   ]
  },
  {
   "cell_type": "code",
   "execution_count": 14,
   "id": "34a19306",
   "metadata": {},
   "outputs": [
    {
     "data": {
      "image/png": "[encoded data removed]",
      "text/plain": [
       "<IPython.core.display.Image object>"
      ]
     },
     "metadata": {},
     "output_type": "display_data"
    },
    {
     "data": {
      "text/markdown": [
       "### Simple Description\n",
       "A simple cartoon illustration of an orange cat riding a bicycle while towing a gray cat in a small wagon against a basic outdoor backdrop.\n",
       "\n",
       "### Main Subject\n",
       "- The primary figure is a smiling orange cat with ears, a round body, and a tail, positioned as if pedaling a bicycle.\n",
       "- The bicycle is depicted with black lines, two white wheels, pedals, and a handlebar.\n",
       "- Attached to the bicycle is a black line connecting to a small wagon, where a smaller gray cat with ears and a smiling face is seated.\n",
       "\n",
       "### Background and Setting\n",
       "- The background features a solid light blue sky, suggesting a clear day.\n",
       "- A thin green strip at the bottom represents grass or ground, indicating an outdoor, open field or park-like setting.\n",
       "- There are small black dots near the rear wheel, possibly implying motion or dust.\n",
       "\n",
       "### Style and Tone\n",
       "- The style is minimalist and childlike, using basic geometric shapes, bold lines, and flat colors without shading or detail.\n",
       "- It resembles a simple digital drawing or doodle, with no intricate textures or realism.\n",
       "- The tone is cheerful and whimsical, conveyed by the smiling faces of both cats and the playful activity, evoking a sense of fun and adventure."
      ],
      "text/plain": [
       "<IPython.core.display.Markdown object>"
      ]
     },
     "metadata": {},
     "output_type": "display_data"
    }
   ],
   "source": [
    "rsp = create_and_describe_image(\n",
    "    \"Create an SVG of a two cats riding a bicycle\",\n",
    "    client=wrapped_grok_client,\n",
    "    model_name=\"grok-4-0709\",\n",
    "    generation_kwargs={\"max_tokens\": 10000},\n",
    ")\n",
    "\n",
    "display(Image(filename=\"_temp/created_image.png\"))\n",
    "display(Markdown(rsp[\"description\"]))\n"
   ]
  },
  {
   "cell_type": "markdown",
   "id": "5c1fc1ed",
   "metadata": {},
   "source": [
    "## Scorers\n"
   ]
  },
  {
   "cell_type": "code",
   "execution_count": null,
   "id": "5893b711",
   "metadata": {},
   "outputs": [],
   "source": [
    "from pydantic import BaseModel, Field\n",
    "\n",
    "\n",
    "class LikertScale(BaseModel):\n",
    "    score: int = Field(\n",
    "        ...,\n",
    "        description=\"A score between 1 and 5 (1 is the worst score and 5 is the best score).\",\n",
    "        min_value=1,\n",
    "        max_value=5,\n",
    "    )  # type: ignore\n",
    "    rationale: str = Field(..., description=\"A rationale for the score.\")\n"
   ]
  },
  {
   "cell_type": "code",
   "execution_count": null,
   "id": "2822c402",
   "metadata": {},
   "outputs": [],
   "source": [
    "def ask_llm_judge_about_image_description(client, model_name, input, output):\n",
    "    gen_kwargs = {\"response_format\": LikertScale}\n",
    "    if model_name.startswith(\"claude\"):\n",
    "        gen_kwargs = {}\n",
    "\n",
    "    rsp = client.chat.completions.parse(\n",
    "        model=model_name,\n",
    "        messages=[\n",
    "            {\n",
    "                \"role\": \"system\",\n",
    "                \"content\": dedent(\"\"\"\\\n",
    "                    You are a critical expert in determining if a generated image matches what the user asked for and whether or not an AI model did a good job in describing that image.\n",
    "                    \n",
    "                    The score must be an integer between 1 and 5.  You should respond ONLY with a JSON object with this format:{score:int, rationale:str}. Make sure you escape any characters that are not valid JSON. \n",
    "                    Only response with a string that can be parsed as JSON using `json.loads()`. Double check your work!\n",
    "                    \"\"\"),\n",
    "            },\n",
    "            {\n",
    "                \"role\": \"user\",\n",
    "                \"content\": [\n",
    "                    {\"type\": \"text\", \"text\": f\"Here is the image generated from the description: {input}\"},\n",
    "                    {\"type\": \"image_url\", \"image_url\": {\"url\": output[\"image_url\"]}},\n",
    "                    {\n",
    "                        \"type\": \"text\",\n",
    "                        \"text\": f\"Here is the description of the generated image: {output['description']}\",\n",
    "                    },\n",
    "                    {\n",
    "                        \"type\": \"text\",\n",
    "                        \"text\": \"Return a score between 1 and 5 based on how well the image matches the description and how well the description matches the image. 1 is the worst score and 5 is the best score.\",\n",
    "                    },\n",
    "                ],\n",
    "            },\n",
    "        ],\n",
    "        **gen_kwargs,\n",
    "    )\n",
    "\n",
    "    if model_name.startswith(\"claude\"):\n",
    "        parsed = json.loads(rsp.choices[0].message.content)\n",
    "        return (parsed[\"score\"] - 1) / 4\n",
    "    else:\n",
    "        parsed: LikertScale = rsp.choices[0].message.parsed\n",
    "        return (parsed.score - 1) / 4"
   ]
  },
  {
   "cell_type": "code",
   "execution_count": null,
   "id": "d1694b1e",
   "metadata": {},
   "outputs": [],
   "source": [
    "def is_good_description(input, output, expected=None, metadata=None):\n",
    "    oai_judge_score = partial(\n",
    "        ask_llm_judge_about_image_description, client=openai_client, model_name=\"gpt-4o\", input=input, output=output\n",
    "    )()\n",
    "    anthropic_judge_score = partial(\n",
    "        ask_llm_judge_about_image_description,\n",
    "        client=anthropic_client,\n",
    "        model_name=\"claude-3-5-sonnet-20240620\",\n",
    "        input=input,\n",
    "        output=output,\n",
    "    )()\n",
    "    grok_judge_score = partial(\n",
    "        ask_llm_judge_about_image_description,\n",
    "        client=wrapped_grok_client,\n",
    "        model_name=\"grok-4-0709\",\n",
    "        input=input,\n",
    "        output=output,\n",
    "    )()\n",
    "\n",
    "    return [\n",
    "        Score(name=\"is_good_description_judge_oai\", score=oai_judge_score),\n",
    "        Score(name=\"is_good_description_judge_anthropic\", score=anthropic_judge_score),\n",
    "        Score(name=\"is_good_description_judge_grok\", score=grok_judge_score),\n",
    "        Score(name=\"is_good_description_jury\", score=(oai_judge_score + anthropic_judge_score + grok_judge_score) / 3),\n",
    "    ]"
   ]
  },
  {
   "cell_type": "code",
   "execution_count": 20,
   "id": "e45374ea",
   "metadata": {},
   "outputs": [
    {
     "data": {
      "text/plain": [
       "[Score(name='is_good_description_judge_oai', score=1.0, metadata={}, error=None),\n",
       " Score(name='is_good_description_judge_anthropic', score=0.5, metadata={}, error=None),\n",
       " Score(name='is_good_description_judge_grok', score=0.5, metadata={}, error=None),\n",
       " Score(name='is_good_description_jury', score=0.6666666666666666, metadata={}, error=None)]"
      ]
     },
     "execution_count": 20,
     "metadata": {},
     "output_type": "execute_result"
    }
   ],
   "source": [
    "score = is_good_description(\n",
    "    input=\"Create an SVG of a two cats riding a bicycle\",\n",
    "    output=rsp,\n",
    ")\n",
    "\n",
    "score"
   ]
  },
  {
   "cell_type": "markdown",
   "id": "7245ec3c",
   "metadata": {},
   "source": [
    "## Evals\n"
   ]
  },
  {
   "cell_type": "code",
   "execution_count": 21,
   "id": "ed2dea7d",
   "metadata": {},
   "outputs": [
    {
     "name": "stdout",
     "output_type": "stream",
     "text": [
      "2025071312\n"
     ]
    }
   ],
   "source": [
    "current_date_str = datetime.now().strftime(\"%Y%m%d%H\")\n",
    "print(current_date_str)\n"
   ]
  },
  {
   "cell_type": "code",
   "execution_count": null,
   "id": "13e24143",
   "metadata": {},
   "outputs": [
    {
     "name": "stderr",
     "output_type": "stream",
     "text": [
      "Skipping git metadata. This is likely because the repository has not been published to a remote yet. Remote named 'origin' didn't exist\n",
      "Experiment reasoning-xai-grok4-0709-2025071312 is running at https://www.braintrust.dev/app/braintrustdata.com/p/wayde-bt-new-model-benchmark/experiments/reasoning-xai-grok4-0709-2025071312\n",
      "wayde-bt-new-model-benchmark [experiment_name=reasoning-xai-grok4-0709-2025071312] (data): 2it [00:00, 7752.87it/s]\n",
      "wayde-bt-new-model-benchmark [experiment_name=reasoning-xai-grok4-0709-2025071312] (tasks): 100%|██████████| 2/2 [01:19<00:00, 39.98s/it]\n"
     ]
    },
    {
     "name": "stdout",
     "output_type": "stream",
     "text": [
      "\n",
      "=========================SUMMARY=========================\n",
      "50.00% 'is_good_description_judge_anthropic' score\n",
      "37.50% 'is_good_description_judge_grok'      score\n",
      "62.50% 'is_good_description_judge_oai'       score\n",
      "50.00% 'is_good_description_jury'            score\n",
      "\n",
      "1752435968.86s start\n",
      "1752436042.77s end\n",
      "35.16s duration\n",
      "35.10s llm_duration\n",
      "326tok prompt_tokens\n",
      "1472.50tok completion_tokens\n",
      "1798.50tok total_tokens\n",
      "0.02$ estimated_cost\n",
      "4tok prompt_cached_tokens\n",
      "0tok prompt_cache_creation_tokens\n",
      "\n",
      "See results for reasoning-xai-grok4-0709-2025071312 at https://www.braintrust.dev/app/braintrustdata.com/p/wayde-bt-new-model-benchmark/experiments/reasoning-xai-grok4-0709-2025071312\n"
     ]
    },
    {
     "data": {
      "text/plain": [
       "EvalResultWithSummary(summary=\"...\", results=[...])"
      ]
     },
     "execution_count": 22,
     "metadata": {},
     "output_type": "execute_result"
    }
   ],
   "source": [
    "await bt.EvalAsync(\n",
    "    name=BT_PROJECT_NAME,\n",
    "    experiment_name=f\"reasoning-xai-grok4-0709-{current_date_str}\",\n",
    "    data=lambda: [\n",
    "        bt.EvalCase(input=\"Generate an SVG of a pelican riding a bicycle\"),\n",
    "        bt.EvalCase(input=\"Generate an SVG of two cats driving a tesla\"),\n",
    "    ],  # type: ignore\n",
    "    task=partial(\n",
    "        create_and_describe_image,\n",
    "        client=wrapped_grok_client,\n",
    "        model_name=\"grok-4-0709\",\n",
    "        generation_kwargs={\"max_tokens\": 10000},\n",
    "    ),\n",
    "    scores=[is_good_description],\n",
    "    metadata={\"vendor\": \"xai\", \"model\": \"grok-4-0709\"},\n",
    ")"
   ]
  },
  {
   "cell_type": "code",
   "execution_count": null,
   "id": "d5d204f3",
   "metadata": {},
   "outputs": [],
   "source": []
  },
  {
   "cell_type": "code",
   "execution_count": null,
   "id": "afc1d1b8",
   "metadata": {},
   "outputs": [],
   "source": []
  }
 ],
 "metadata": {
  "kernelspec": {
   "display_name": ".venv",
   "language": "python",
   "name": "python3"
  },
  "language_info": {
   "codemirror_mode": {
    "name": "ipython",
    "version": 3
   },
   "file_extension": ".py",
   "mimetype": "text/x-python",
   "name": "python",
   "nbconvert_exporter": "python",
   "pygments_lexer": "ipython3",
   "version": "3.12.11"
  }
 },
 "nbformat": 4,
 "nbformat_minor": 5
}
