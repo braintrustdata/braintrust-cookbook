{
 "cells": [
  {
   "cell_type": "markdown",
   "metadata": {},
   "source": [
    "# Generating beautiful HTML components\n",
    "\n",
    "In this example, we'll build an app that automatically generates HTML components, evaluates them, and captures user feedback. We'll use the feedback and evaluations to build up a dataset\n",
    "that we'll use as a basis for further improvements.\n"
   ]
  },
  {
   "cell_type": "markdown",
   "metadata": {},
   "source": [
    "## The generator\n",
    "\n",
    "We'll start by using a very simple prompt to generate HTML components using `gpt-3.5-turbo`.\n"
   ]
  },
  {
   "cell_type": "markdown",
   "metadata": {},
   "source": [
    "First, we'll initialize an openai client and wrap it with Braintrust's helper. This is a no-op until we start using\n",
    "the client within code that is instrumented by Braintrust.\n"
   ]
  },
  {
   "cell_type": "code",
   "execution_count": 1,
   "metadata": {},
   "outputs": [],
   "source": [
    "import { OpenAI } from \"openai\";\n",
    "import { wrapOpenAI } from \"braintrust\";\n",
    "\n",
    "const openai = wrapOpenAI(\n",
    "  new OpenAI({\n",
    "    apiKey: process.env.OPENAI_API_KEY || \"Your OPENAI_API_KEY\",\n",
    "  })\n",
    ");\n"
   ]
  },
  {
   "cell_type": "markdown",
   "metadata": {},
   "source": [
    "This code generates a basic prompt:\n"
   ]
  },
  {
   "cell_type": "code",
   "execution_count": 2,
   "metadata": {},
   "outputs": [
    {
     "name": "stdout",
     "output_type": "stream",
     "text": [
      "[\n",
      "  {\n",
      "    \"role\": \"system\",\n",
      "    \"content\": \"You are a skilled design engineer\\nwho can convert ambiguously worded ideas into beautiful, crisp HTML and CSS.\\nYour designs value simplicity, conciseness, clarity, and functionality over\\ncomplexity.\\n\\nYou generate pure HTML with inline CSS, so that your designs can be rendered\\ndirectly as plain HTML. Only generate components, not full HTML pages. Do not\\ncreate background colors.\\n\\nUsers will send you a description of a design, and you must reply with HTML,\\nand nothing else. Your reply will be directly copied and rendered into a browser,\\nso do not include any text. If you would like to explain your reasoning, feel free\\nto do so in HTML comments.\"\n",
      "  },\n",
      "  {\n",
      "    \"role\": \"user\",\n",
      "    \"content\": \"A login form for a B2B SaaS product.\"\n",
      "  }\n",
      "]\n"
     ]
    }
   ],
   "source": [
    "import { ChatCompletionMessageParam } from \"openai/resources\";\n",
    "\n",
    "function generateMessages(input: string): ChatCompletionMessageParam[] {\n",
    "  return [\n",
    "    {\n",
    "      role: \"system\",\n",
    "      content: `You are a skilled design engineer\n",
    "who can convert ambiguously worded ideas into beautiful, crisp HTML and CSS.\n",
    "Your designs value simplicity, conciseness, clarity, and functionality over\n",
    "complexity.\n",
    "\n",
    "You generate pure HTML with inline CSS, so that your designs can be rendered\n",
    "directly as plain HTML. Only generate components, not full HTML pages. Do not\n",
    "create background colors.\n",
    "\n",
    "Users will send you a description of a design, and you must reply with HTML,\n",
    "and nothing else. Your reply will be directly copied and rendered into a browser,\n",
    "so do not include any text. If you would like to explain your reasoning, feel free\n",
    "to do so in HTML comments.`,\n",
    "    },\n",
    "    {\n",
    "      role: \"user\",\n",
    "      content: input,\n",
    "    },\n",
    "  ];\n",
    "}\n",
    "\n",
    "JSON.stringify(\n",
    "  generateMessages(\"A login form for a B2B SaaS product.\"),\n",
    "  null,\n",
    "  2\n",
    ");\n"
   ]
  },
  {
   "cell_type": "markdown",
   "metadata": {},
   "source": [
    "Now, let's run this using `gpt-3.5-turbo`. We'll also do a few things that help us log & evaluate this function later:\n",
    "\n",
    "- Wrap the execution in a `traced` call, which will enable Braintrust to log the inputs and outputs of the function when we run it in production or in evals\n",
    "- Make its signature accept a single `input` value, which Braintrust's `Eval` function expects\n",
    "- Use a `seed` so that this test is reproduceable\n"
   ]
  },
  {
   "cell_type": "code",
   "execution_count": 4,
   "metadata": {},
   "outputs": [],
   "source": [
    "import { traced } from \"braintrust\";\n",
    "async function generateComponent(input: string) {\n",
    "  return traced(\n",
    "    async (span) => {\n",
    "      const response = await openai.chat.completions.create({\n",
    "        model: \"gpt-3.5-turbo\",\n",
    "        messages: generateMessages(input),\n",
    "        seed: 101,\n",
    "      });\n",
    "      const output = response.choices[0].message.content;\n",
    "      span.log({ input, output });\n",
    "      return output;\n",
    "    },\n",
    "    {\n",
    "      name: \"generateComponent\",\n",
    "    }\n",
    "  );\n",
    "}\n"
   ]
  },
  {
   "cell_type": "markdown",
   "metadata": {},
   "source": [
    "### Examples\n",
    "\n",
    "Let's look at a few examples!\n"
   ]
  },
  {
   "cell_type": "code",
   "execution_count": 6,
   "metadata": {},
   "outputs": [
    {
     "name": "stdout",
     "output_type": "stream",
     "text": [
      "<div style=\"display: flex; justify-content: center; align-items: center; height: 100vh;\">\n",
      "  <div style=\"width: 300px; padding: 20px; border: 1px solid #ccc; border-radius: 5px;\">\n",
      "    <h2 style=\"text-align: center;\">Reset Password</h2>\n",
      "    <form style=\"display: flex; flex-direction: column;\">\n",
      "      <label for=\"email\">Email:</label>\n",
      "      <input type=\"email\" id=\"email\" name=\"email\" placeholder=\"Enter your email\" style=\"margin-bottom: 10px; padding: 5px;\">\n",
      "      <button type=\"submit\" style=\"background-color: #4CAF50; color: white; border: none; padding: 10px; border-radius: 5px; cursor: pointer;\">Reset Password</button>\n",
      "    </form>\n",
      "  </div>\n",
      "</div>\n"
     ]
    }
   ],
   "source": [
    "await generateComponent(\"Do a reset password form inside a card.\");\n"
   ]
  },
  {
   "cell_type": "markdown",
   "metadata": {},
   "source": [
    "To make this easier to validate, we'll use [puppeteer](https://pptr.dev/) to render the HTML as a screenshot.\n"
   ]
  },
  {
   "cell_type": "code",
   "execution_count": 11,
   "metadata": {},
   "outputs": [
    {
     "data": {
      "image/png": "[encoded data removed]"
     },
     "metadata": {},
     "output_type": "display_data"
    },
    {
     "name": "stdout",
     "output_type": "stream",
     "text": [
      "<div style=\"display: flex; justify-content: center; align-items: center; height: 100vh;\">\n",
      "  <div style=\"width: 300px; padding: 20px; border: 1px solid #ccc; border-radius: 5px;\">\n",
      "    <h2 style=\"text-align: center;\">Reset Password</h2>\n",
      "    <form style=\"display: flex; flex-direction: column;\">\n",
      "      <label for=\"email\">Email:</label>\n",
      "      <input type=\"email\" id=\"email\" name=\"email\" placeholder=\"Enter your email\" style=\"margin-bottom: 10px; padding: 5px;\">\n",
      "      <button type=\"submit\" style=\"background-color: #4CAF50; color: white; border: none; padding: 10px; border-radius: 5px; cursor: pointer;\">Reset Password</button>\n",
      "    </form>\n",
      "  </div>\n",
      "</div>\n"
     ]
    }
   ],
   "source": [
    "import puppeteer from \"puppeteer\";\n",
    "import * as tslab from \"tslab\";\n",
    "\n",
    "async function takeFullPageScreenshotAsUInt8Array(htmlContent) {\n",
    "  const browser = await puppeteer.launch({ headless: \"new\" });\n",
    "  const page = await browser.newPage();\n",
    "  await page.setContent(htmlContent);\n",
    "\n",
    "  const screenshotBuffer = await page.screenshot();\n",
    "  const uint8Array = new Uint8Array(screenshotBuffer);\n",
    "\n",
    "  await browser.close();\n",
    "  return uint8Array;\n",
    "}\n",
    "\n",
    "async function displayComponent(input: string) {\n",
    "  const html = await generateComponent(input);\n",
    "  const img = await takeFullPageScreenshotAsUInt8Array(html);\n",
    "  tslab.display.png(img);\n",
    "  console.log(html);\n",
    "}\n",
    "\n",
    "await displayComponent(\"Do a reset password form inside a card.\");\n"
   ]
  },
  {
   "cell_type": "code",
   "execution_count": 8,
   "metadata": {},
   "outputs": [
    {
     "data": {
      "image/png": "[encoded data removed]"
     },
     "metadata": {},
     "output_type": "display_data"
    },
    {
     "name": "stdout",
     "output_type": "stream",
     "text": [
      "<!DOCTYPE html>\n",
      "<html>\n",
      "\n",
      "<head>\n",
      "    <style>\n",
      "        .profile {\n",
      "            display: flex;\n",
      "            flex-direction: column;\n",
      "            align-items: center;\n",
      "        }\n",
      "\n",
      "        .profile-img {\n",
      "            width: 150px;\n",
      "            height: 150px;\n",
      "            border-radius: 50%;\n",
      "            margin-bottom: 20px;\n",
      "        }\n",
      "\n",
      "        .profile-name {\n",
      "            font-size: 24px;\n",
      "            font-weight: bold;\n",
      "            margin-bottom: 10px;\n",
      "        }\n",
      "\n",
      "        .profile-bio {\n",
      "            font-size: 18px;\n",
      "            text-align: center;\n",
      "        }\n",
      "\n",
      "        .profile-stats {\n",
      "            display: flex;\n",
      "            justify-content: space-between;\n",
      "            width: 200px;\n",
      "            margin-top: 20px;\n",
      "        }\n",
      "\n",
      "        .profile-stats-item {\n",
      "            display: flex;\n",
      "            flex-direction: column;\n",
      "            align-items: center;\n",
      "        }\n",
      "\n",
      "        .profile-stats-item-value {\n",
      "            font-size: 20px;\n",
      "            font-weight: bold;\n",
      "            margin-bottom: 5px;\n",
      "        }\n",
      "\n",
      "        .profile-stats-item-label {\n",
      "            font-size: 16px;\n",
      "        }\n",
      "    </style>\n",
      "</head>\n",
      "\n",
      "<body>\n",
      "    <div class=\"profile\">\n",
      "        <img class=\"profile-img\" src=\"profile-picture.jpg\" alt=\"Profile Picture\">\n",
      "        <div class=\"profile-name\">John Doe</div>\n",
      "        <div class=\"profile-bio\">Lorem ipsum dolor sit amet, consectetur adipiscing elit. Nulla ut turpis\n",
      "            hendrerit, ullamcorper velit in, iaculis arcu.</div>\n",
      "        <div class=\"profile-stats\">\n",
      "            <div class=\"profile-stats-item\">\n",
      "                <div class=\"profile-stats-item-value\">500</div>\n",
      "                <div class=\"profile-stats-item-label\">Followers</div>\n",
      "            </div>\n",
      "            <div class=\"profile-stats-item\">\n",
      "                <div class=\"profile-stats-item-value\">250</div>\n",
      "                <div class=\"profile-stats-item-label\">Following</div>\n",
      "            </div>\n",
      "            <div class=\"profile-stats-item\">\n",
      "                <div class=\"profile-stats-item-value\">1000</div>\n",
      "                <div class=\"profile-stats-item-label\">Posts</div>\n",
      "            </div>\n",
      "        </div>\n",
      "    </div>\n",
      "</body>\n",
      "\n",
      "</html>\n"
     ]
    }
   ],
   "source": [
    "await displayComponent(\"Create a profile page for a social network.\");\n"
   ]
  },
  {
   "cell_type": "code",
   "execution_count": 10,
   "metadata": {},
   "outputs": [
    {
     "data": {
      "image/png": "[encoded data removed]"
     },
     "metadata": {},
     "output_type": "display_data"
    },
    {
     "name": "stdout",
     "output_type": "stream",
     "text": [
      "<!DOCTYPE html>\n",
      "<html>\n",
      "<head>\n",
      "<style>\n",
      "    /* Overall styling */\n",
      "    body {\n",
      "        font-family: Arial, sans-serif;\n",
      "        color: #fff;\n",
      "        background-color: #000;\n",
      "    }\n",
      "\n",
      "    /* Header styling */\n",
      "    .header {\n",
      "        background-color: #333;\n",
      "        padding: 20px;\n",
      "        text-align: center;\n",
      "    }\n",
      "\n",
      "    .header h1 {\n",
      "        margin: 0;\n",
      "        font-size: 24px;\n",
      "    }\n",
      "\n",
      "    /* Logs viewer styling */\n",
      "    .logs-viewer {\n",
      "        padding: 20px;\n",
      "    }\n",
      "\n",
      "    .log-entry {\n",
      "        margin-bottom: 10px;\n",
      "    }\n",
      "\n",
      "    .log-entry .timestamp {\n",
      "        color: #ccc;\n",
      "        font-size: 14px;\n",
      "        margin-right: 10px;\n",
      "    }\n",
      "\n",
      "    .log-entry .message {\n",
      "        font-size: 16px;\n",
      "    }\n",
      "</style>\n",
      "</head>\n",
      "<body>\n",
      "    <!-- Header -->\n",
      "    <div class=\"header\">\n",
      "        <h1>Logs Viewer</h1>\n",
      "    </div>\n",
      "    \n",
      "    <!-- Logs Viewer -->\n",
      "    <div class=\"logs-viewer\">\n",
      "        <div class=\"log-entry\">\n",
      "            <span class=\"timestamp\">12:30 PM</span>\n",
      "            <span class=\"message\">Info: Cloud instance created successfully</span>\n",
      "        </div>\n",
      "        <div class=\"log-entry\">\n",
      "            <span class=\"timestamp\">12:45 PM</span>\n",
      "            <span class=\"message\">Warning: High CPU utilization on instance #123</span>\n",
      "        </div>\n",
      "        <div class=\"log-entry\">\n",
      "            <span class=\"timestamp\">01:00 PM</span>\n",
      "            <span class=\"message\">Error: Connection lost to the database server</span>\n",
      "        </div>\n",
      "        <!-- Add more log entries here -->\n",
      "    </div>\n",
      "</body>\n",
      "</html>\n"
     ]
    }
   ],
   "source": [
    "await displayComponent(\n",
    "  \"Logs viewer for a cloud infrastructure management tool. Heavy use of dark mode.\"\n",
    ");\n"
   ]
  },
  {
   "cell_type": "markdown",
   "metadata": {},
   "source": [
    "## Scoring the results\n",
    "\n",
    "It looks like in a few of these examples, the model is generating a full HTML page, instead of a component as we requested. This is something we can evaluate, to ensure that it does not happen!\n"
   ]
  },
  {
   "cell_type": "code",
   "execution_count": 11,
   "metadata": {},
   "outputs": [
    {
     "name": "stdout",
     "output_type": "stream",
     "text": [
      "\u001b[33mtrue\u001b[39m\n"
     ]
    }
   ],
   "source": [
    "const containsHTML = (s) => /<(html|body)>/i.test(s);\n",
    "containsHTML(\n",
    "  await generateComponent(\n",
    "    \"Logs viewer for a cloud infrastructure management tool. Heavy use of dark mode.\"\n",
    "  )\n",
    ");\n"
   ]
  },
  {
   "cell_type": "markdown",
   "metadata": {},
   "source": [
    "Now, let's update our function to compute this score. Let's also keep track of requests and their ids, so that we can provide user feedback. Normally you would store these in a database, but for demo purposes, a global dictionary should suffice.\n"
   ]
  },
  {
   "cell_type": "code",
   "execution_count": 12,
   "metadata": {},
   "outputs": [],
   "source": [
    "// Normally you would store these in a database, but for this demo we'll just use a global variable.\n",
    "let requests = {};\n",
    "\n",
    "async function generateComponent(input: string) {\n",
    "  return traced(\n",
    "    async (span) => {\n",
    "      const response = await openai.chat.completions.create({\n",
    "        model: \"gpt-3.5-turbo\",\n",
    "        messages: generateMessages(input),\n",
    "        seed: 101,\n",
    "      });\n",
    "      const output = response.choices[0].message.content;\n",
    "      requests[input] = span.id;\n",
    "      span.log({\n",
    "        input,\n",
    "        output,\n",
    "        scores: { isComponent: containsHTML(output) ? 0 : 1 },\n",
    "      });\n",
    "      return output;\n",
    "    },\n",
    "    {\n",
    "      name: \"generateComponent\",\n",
    "    }\n",
    "  );\n",
    "}\n"
   ]
  },
  {
   "cell_type": "markdown",
   "metadata": {},
   "source": [
    "## Logging results\n",
    "\n",
    "To enable logging to Braintrust, we just need to initialize a logger. By default, a logger is automatically marked as the current, global logger, and once initialized will be picked up by `traced`.\n"
   ]
  },
  {
   "cell_type": "code",
   "execution_count": 13,
   "metadata": {},
   "outputs": [],
   "source": [
    "import { initLogger } from \"braintrust\";\n",
    "\n",
    "const logger = initLogger({\n",
    "  projectName: \"Component generator\",\n",
    "  apiKey: process.env.BRAINTRUST_API_KEY || \"Your BRAINTRUST_API_KEY\",\n",
    "});\n"
   ]
  },
  {
   "cell_type": "markdown",
   "metadata": {},
   "source": [
    "Now, we'll run the `generateComponent` function on a few examples, and see what the results look like in Braintrust.\n"
   ]
  },
  {
   "cell_type": "code",
   "execution_count": 13,
   "metadata": {},
   "outputs": [
    {
     "name": "stdout",
     "output_type": "stream",
     "text": [
      "Logged 3 requests to Braintrust.\n"
     ]
    }
   ],
   "source": [
    "const inputs = [\n",
    "  \"A login form for a B2B SaaS product.\",\n",
    "  \"Create a profile page for a social network.\",\n",
    "  \"Logs viewer for a cloud infrastructure management tool. Heavy use of dark mode.\",\n",
    "];\n",
    "\n",
    "for (const input of inputs) {\n",
    "  await generateComponent(input);\n",
    "}\n",
    "\n",
    "console.log(`Logged ${inputs.length} requests to Braintrust.`);\n"
   ]
  },
  {
   "attachments": {},
   "cell_type": "markdown",
   "metadata": {},
   "source": [
    "### Viewing the logs in Braintrust\n",
    "\n",
    "Once this runs, you should be able to see the raw inputs and outputs, along with their scores in the project.\n",
    "\n",
    "![component_generator_logs.png](./assets/component-generator-logs.png)\n"
   ]
  },
  {
   "cell_type": "markdown",
   "metadata": {},
   "source": [
    "### Capturing user feedback\n",
    "\n",
    "Let's also track user ratings for these components. Separate from whether or not they're formatted as HTML, it'll be useful to track whether users like the design.\n",
    "\n",
    "To do this, [configure a new score in the project](https://www.braintrustdata.com/docs/guides/human-review#configuring-human-review). Let's call it \"User preference\" and make it a 👍/👎.\n",
    "\n",
    "![Score configuration](./assets/score-config.png)\n"
   ]
  },
  {
   "cell_type": "markdown",
   "metadata": {},
   "source": [
    "Once you create a human review score, you can evaluate results directly in the Braintrust UI, or capture end-user feedback. Here, we'll pretend to capture end-user feedback. Personally, I liked the login form and logs viewer, but not the profile page. Let's record feedback accordingly.\n"
   ]
  },
  {
   "cell_type": "code",
   "execution_count": 15,
   "metadata": {},
   "outputs": [],
   "source": [
    "// Along with scores, you can optionally log user feedback as comments, for additional color.\n",
    "logger.logFeedback({\n",
    "  id: requests[\"A login form for a B2B SaaS product.\"],\n",
    "  scores: { \"User preference\": 1 },\n",
    "  comment: \"Clean, simple\",\n",
    "});\n",
    "logger.logFeedback({\n",
    "  id: requests[\"Create a profile page for a social network.\"],\n",
    "  scores: { \"User preference\": 0 },\n",
    "});\n",
    "logger.logFeedback({\n",
    "  id: requests[\n",
    "    \"Logs viewer for a cloud infrastructure management tool. Heavy use of dark mode.\"\n",
    "  ],\n",
    "  scores: { \"User preference\": 1 },\n",
    "  comment:\n",
    "    \"No frills! Would have been nice to have borders around the entries.\",\n",
    "});\n"
   ]
  },
  {
   "cell_type": "markdown",
   "metadata": {},
   "source": [
    "As users provide feedback, you'll see the updates they make in each log entry.\n"
   ]
  },
  {
   "attachments": {},
   "cell_type": "markdown",
   "metadata": {},
   "source": [
    "![Feedback log](./assets/feedback-comments.png)\n"
   ]
  },
  {
   "cell_type": "markdown",
   "metadata": {},
   "source": [
    "## Creating a dataset\n",
    "\n",
    "Now that we've collected some interesting examples from users, let's collect them into a dataset, and see if we can improve the `isComponent` score.\n",
    "\n",
    "In the Braintrust UI, select the examples, and add them to a new dataset called \"Interesting cases\".\n",
    "\n",
    "![Interesting cases](./assets/create-new-dataset.png)\n",
    "\n",
    "Once you create the dataset, it should look something like this:\n",
    "\n",
    "![Dataset](./assets/dataset.png)\n",
    "\n",
    "## Evaluating\n",
    "\n",
    "Now that we have a dataset, let's evaluate the `isComponent` function on it. We'll use the `Eval` function, which takes a dataset and a function, and evaluates the function on each example in the dataset.\n"
   ]
  },
  {
   "cell_type": "code",
   "execution_count": null,
   "metadata": {},
   "outputs": [],
   "source": [
    "import { Eval, initDataset } from \"braintrust\";\n",
    "\n",
    "await Eval(\"Component generator\", {\n",
    "  data: async () => {\n",
    "    const dataset = initDataset(\"Component generator\", {\n",
    "      dataset: \"Interesting cases\",\n",
    "    });\n",
    "    const records = [];\n",
    "    for await (const { input } of dataset.fetch()) {\n",
    "      records.push({ input });\n",
    "    }\n",
    "    return records;\n",
    "  },\n",
    "  task: generateComponent,\n",
    "  // We do not need to add any additional scores, because our\n",
    "  // generateComponent() function already computes `isComponent`\n",
    "  scores: [],\n",
    "});\n"
   ]
  },
  {
   "cell_type": "markdown",
   "metadata": {},
   "source": [
    "Once the eval runs, you'll see a summary which includes a link to the experiment. As expected, only one of the three outputs contains HTML, so the score is 33.3%. Let's also label user preference for this experiment, so we can track aesthetic taste manually. For simplicity's sake, we'll use the same labeling as before.\n",
    "\n",
    "![Initial experiment](./assets/initial-experiment.png)\n",
    "\n",
    "### Improving the prompt\n",
    "\n",
    "Next, let's try to tweak the prompt to stop rendering full HTML pages.\n"
   ]
  },
  {
   "cell_type": "code",
   "execution_count": 17,
   "metadata": {},
   "outputs": [
    {
     "name": "stdout",
     "output_type": "stream",
     "text": [
      "[\n",
      "  {\n",
      "    \"role\": \"system\",\n",
      "    \"content\": \"You are a skilled design engineer\\nwho can convert ambiguously worded ideas into beautiful, crisp HTML and CSS.\\nYour designs value simplicity, conciseness, clarity, and functionality over\\ncomplexity.\\n\\nYou generate pure HTML with inline CSS, so that your designs can be rendered\\ndirectly as plain HTML. Only generate components, not full HTML pages. If you\\nneed to add CSS, you can use the \\\"style\\\" property of an HTML tag. You cannot use\\nglobal CSS in a <style> tag.\\n\\nUsers will send you a description of a design, and you must reply with HTML,\\nand nothing else. Your reply will be directly copied and rendered into a browser,\\nso do not include any text. If you would like to explain your reasoning, feel free\\nto do so in HTML comments.\"\n",
      "  },\n",
      "  {\n",
      "    \"role\": \"user\",\n",
      "    \"content\": \"A login form for a B2B SaaS product.\"\n",
      "  }\n",
      "]\n"
     ]
    }
   ],
   "source": [
    "function generateMessages(input: string): ChatCompletionMessageParam[] {\n",
    "  return [\n",
    "    {\n",
    "      role: \"system\",\n",
    "      content: `You are a skilled design engineer\n",
    "who can convert ambiguously worded ideas into beautiful, crisp HTML and CSS.\n",
    "Your designs value simplicity, conciseness, clarity, and functionality over\n",
    "complexity.\n",
    "\n",
    "You generate pure HTML with inline CSS, so that your designs can be rendered\n",
    "directly as plain HTML. Only generate components, not full HTML pages. If you\n",
    "need to add CSS, you can use the \"style\" property of an HTML tag. You cannot use\n",
    "global CSS in a <style> tag.\n",
    "\n",
    "Users will send you a description of a design, and you must reply with HTML,\n",
    "and nothing else. Your reply will be directly copied and rendered into a browser,\n",
    "so do not include any text. If you would like to explain your reasoning, feel free\n",
    "to do so in HTML comments.`,\n",
    "    },\n",
    "    {\n",
    "      role: \"user\",\n",
    "      content: input,\n",
    "    },\n",
    "  ];\n",
    "}\n",
    "\n",
    "JSON.stringify(\n",
    "  generateMessages(\"A login form for a B2B SaaS product.\"),\n",
    "  null,\n",
    "  2\n",
    ");\n"
   ]
  },
  {
   "cell_type": "code",
   "execution_count": 19,
   "metadata": {},
   "outputs": [
    {
     "data": {
      "image/png": "[encoded data removed]"
     },
     "metadata": {},
     "output_type": "display_data"
    },
    {
     "name": "stdout",
     "output_type": "stream",
     "text": [
      "\n",
      "\n",
      "<div>\n",
      "  <div style=\"background-color: #252525; color: #FFFFFF; padding: 10px;\">\n",
      "    <h1 style=\"margin: 0;\">Logs Viewer</h1>\n",
      "  </div>\n",
      "  <div style=\"background-color: #343434; color: #FFFFFF; padding: 10px;\">\n",
      "    <pre style=\"margin: 0;\">[Timestamp] [Service Name] [Log Level] [Message]</pre>\n",
      "    <pre style=\"margin: 0;\">[Timestamp] [Service Name] [Log Level] [Message]</pre>\n",
      "    <pre style=\"margin: 0;\">[Timestamp] [Service Name] [Log Level] [Message]</pre>\n",
      "    <!-- Repeat as needed for more logs -->\n",
      "  </div>\n",
      "</div>\n"
     ]
    }
   ],
   "source": [
    "await displayComponent(\n",
    "  \"Logs viewer for a cloud infrastructure management tool. Heavy use of dark mode.\"\n",
    ");\n"
   ]
  },
  {
   "cell_type": "markdown",
   "metadata": {},
   "source": [
    "Nice, it looks like it no longer generates an `html` tag. Let's re-run the `Eval` (copy/pasted below for convenience).\n"
   ]
  },
  {
   "cell_type": "code",
   "execution_count": null,
   "metadata": {},
   "outputs": [],
   "source": [
    "import { Eval, initDataset } from \"braintrust\";\n",
    "\n",
    "await Eval(\"Component generator\", {\n",
    "  data: async () => {\n",
    "    const dataset = initDataset(\"Component generator\", {\n",
    "      dataset: \"Interesting cases\",\n",
    "    });\n",
    "    const records = [];\n",
    "    for await (const { input } of dataset.fetch()) {\n",
    "      records.push({ input });\n",
    "    }\n",
    "    return records;\n",
    "  },\n",
    "  task: generateComponent,\n",
    "  scores: [], // We do not need to add any additional scores, because our generateComponent() function already computes isComponent\n",
    "});\n",
    "console.log(\"Done!\");\n"
   ]
  },
  {
   "cell_type": "markdown",
   "metadata": {},
   "source": [
    "Nice! We are now generating components without the `<html>` tag.\n",
    "\n",
    "![Next experiment](./assets/next-experiment.png)\n"
   ]
  },
  {
   "cell_type": "markdown",
   "metadata": {},
   "source": [
    "## Where to go from here\n",
    "\n",
    "Now that we've run another experiment, a good next step would be to rate the new components and make sure we did not suffer a serious aesthetic regression. You can also collect more user examples, add them to the dataset, and re-evaluate to better assess how well your application works. Happy evaluating!\n"
   ]
  }
 ],
 "metadata": {
  "kernelspec": {
   "display_name": "TypeScript",
   "language": "typescript",
   "name": "tslab"
  },
  "language_info": {
   "codemirror_mode": {
    "mode": "typescript",
    "name": "javascript",
    "typescript": true
   },
   "file_extension": ".ts",
   "mimetype": "text/typescript",
   "name": "typescript",
   "version": "3.7.2"
  }
 },
 "nbformat": 4,
 "nbformat_minor": 4
}
