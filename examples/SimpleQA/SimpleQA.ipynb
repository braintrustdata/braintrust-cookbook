{
 "cells": [
  {
   "cell_type": "markdown",
   "metadata": {},
   "source": [
    "# Evaluating a Question-Answering system\n",
    "\n",
    "We're going to evaluate a simple QA system using [autoevals](https://github.com/braintrustdata/autoevals), our built-in library for evaluating AI model outputs. By the time you finish this example, you'll learn how to define and use custom evaluation metrics, and analyze results in Braintrust."
   ]
  },
  {
   "cell_type": "markdown",
   "metadata": {},
   "source": [
    "## Setup\n",
    "\n",
    "Before getting started, make sure you have a [Braintrust account](https://www.braintrust.dev/signup) and an API key for [OpenAI](https://platform.openai.com/). Make sure to plug the OpenAI key into your Braintrust account's [AI providers](https://www.braintrust.dev/app/settings?subroute=secrets) configuration and acquire a [BRAINTRUST_API_KEY](https://www.braintrust.dev/app/settings?subroute=api-keys). Add your `BRAINTRUST_API_KEY` to a `.env` file in your directory. \n",
    "\n",
    "### Install dependencies\n",
    "\n",
    "Everything you need to run evals is readily available through Braintrust. Although we'll use OpenAI models, you can use a wide variety of models through the [AI proxy](https://www.braintrust.dev/docs/guides/proxy) without having to write model-specific code. Run the following command to install required libraries."
   ]
  },
  {
   "cell_type": "code",
   "execution_count": 13,
   "metadata": {},
   "outputs": [
    {
     "name": "stdout",
     "output_type": "stream",
     "text": [
      "Requirement already satisfied: autoevals in /opt/homebrew/lib/python3.11/site-packages (0.0.108)\n",
      "Requirement already satisfied: braintrust in /opt/homebrew/lib/python3.11/site-packages (0.0.175)\n",
      "Requirement already satisfied: openai in /opt/homebrew/lib/python3.11/site-packages (1.57.0)\n",
      "Requirement already satisfied: requests in /opt/homebrew/lib/python3.11/site-packages (2.32.3)\n",
      "Requirement already satisfied: chevron in /opt/homebrew/lib/python3.11/site-packages (from autoevals) (0.14.0)\n",
      "Requirement already satisfied: levenshtein in /opt/homebrew/lib/python3.11/site-packages (from autoevals) (0.26.1)\n",
      "Requirement already satisfied: pyyaml in /opt/homebrew/lib/python3.11/site-packages (from autoevals) (6.0.2)\n",
      "Requirement already satisfied: braintrust_core==0.0.54 in /opt/homebrew/lib/python3.11/site-packages (from autoevals) (0.0.54)\n",
      "Requirement already satisfied: jsonschema in /opt/homebrew/lib/python3.11/site-packages (from autoevals) (4.23.0)\n",
      "Requirement already satisfied: GitPython in /opt/homebrew/lib/python3.11/site-packages (from braintrust) (3.1.43)\n",
      "Requirement already satisfied: tqdm in /opt/homebrew/lib/python3.11/site-packages (from braintrust) (4.67.1)\n",
      "Requirement already satisfied: exceptiongroup>=1.2.0 in /opt/homebrew/lib/python3.11/site-packages (from braintrust) (1.2.2)\n",
      "Requirement already satisfied: python-dotenv in /opt/homebrew/lib/python3.11/site-packages (from braintrust) (1.0.1)\n",
      "Requirement already satisfied: sseclient-py in /opt/homebrew/lib/python3.11/site-packages (from braintrust) (1.8.0)\n",
      "Requirement already satisfied: python-slugify in /opt/homebrew/lib/python3.11/site-packages (from braintrust) (8.0.4)\n",
      "Requirement already satisfied: typing_extensions>=4.1.0 in /Users/ornella/Library/Python/3.11/lib/python/site-packages (from braintrust) (4.12.2)\n",
      "Requirement already satisfied: anyio<5,>=3.5.0 in /opt/homebrew/lib/python3.11/site-packages (from openai) (4.7.0)\n",
      "Requirement already satisfied: distro<2,>=1.7.0 in /opt/homebrew/lib/python3.11/site-packages (from openai) (1.9.0)\n",
      "Requirement already satisfied: httpx<1,>=0.23.0 in /opt/homebrew/lib/python3.11/site-packages (from openai) (0.28.0)\n",
      "Requirement already satisfied: jiter<1,>=0.4.0 in /opt/homebrew/lib/python3.11/site-packages (from openai) (0.8.0)\n",
      "Requirement already satisfied: pydantic<3,>=1.9.0 in /opt/homebrew/lib/python3.11/site-packages (from openai) (2.10.3)\n",
      "Requirement already satisfied: sniffio in /opt/homebrew/lib/python3.11/site-packages (from openai) (1.3.1)\n",
      "Requirement already satisfied: charset-normalizer<4,>=2 in /opt/homebrew/lib/python3.11/site-packages (from requests) (3.4.0)\n",
      "Requirement already satisfied: idna<4,>=2.5 in /opt/homebrew/lib/python3.11/site-packages (from requests) (3.10)\n",
      "Requirement already satisfied: urllib3<3,>=1.21.1 in /opt/homebrew/lib/python3.11/site-packages (from requests) (2.2.3)\n",
      "Requirement already satisfied: certifi>=2017.4.17 in /opt/homebrew/lib/python3.11/site-packages (from requests) (2024.8.30)\n",
      "Requirement already satisfied: httpcore==1.* in /opt/homebrew/lib/python3.11/site-packages (from httpx<1,>=0.23.0->openai) (1.0.7)\n",
      "Requirement already satisfied: h11<0.15,>=0.13 in /opt/homebrew/lib/python3.11/site-packages (from httpcore==1.*->httpx<1,>=0.23.0->openai) (0.14.0)\n",
      "Requirement already satisfied: annotated-types>=0.6.0 in /opt/homebrew/lib/python3.11/site-packages (from pydantic<3,>=1.9.0->openai) (0.7.0)\n",
      "Requirement already satisfied: pydantic-core==2.27.1 in /opt/homebrew/lib/python3.11/site-packages (from pydantic<3,>=1.9.0->openai) (2.27.1)\n",
      "Requirement already satisfied: gitdb<5,>=4.0.1 in /opt/homebrew/lib/python3.11/site-packages (from GitPython->braintrust) (4.0.11)\n",
      "Requirement already satisfied: attrs>=22.2.0 in /opt/homebrew/lib/python3.11/site-packages (from jsonschema->autoevals) (24.2.0)\n",
      "Requirement already satisfied: jsonschema-specifications>=2023.03.6 in /opt/homebrew/lib/python3.11/site-packages (from jsonschema->autoevals) (2024.10.1)\n",
      "Requirement already satisfied: referencing>=0.28.4 in /opt/homebrew/lib/python3.11/site-packages (from jsonschema->autoevals) (0.35.1)\n",
      "Requirement already satisfied: rpds-py>=0.7.1 in /opt/homebrew/lib/python3.11/site-packages (from jsonschema->autoevals) (0.22.3)\n",
      "Requirement already satisfied: rapidfuzz<4.0.0,>=3.9.0 in /opt/homebrew/lib/python3.11/site-packages (from levenshtein->autoevals) (3.10.1)\n",
      "Requirement already satisfied: text-unidecode>=1.3 in /opt/homebrew/lib/python3.11/site-packages (from python-slugify->braintrust) (1.3)\n",
      "Requirement already satisfied: smmap<6,>=3.0.1 in /opt/homebrew/lib/python3.11/site-packages (from gitdb<5,>=4.0.1->GitPython->braintrust) (5.0.1)\n",
      "\n",
      "\u001b[1m[\u001b[0m\u001b[34;49mnotice\u001b[0m\u001b[1;39;49m]\u001b[0m\u001b[39;49m A new release of pip is available: \u001b[0m\u001b[31;49m24.2\u001b[0m\u001b[39;49m -> \u001b[0m\u001b[32;49m24.3.1\u001b[0m\n",
      "\u001b[1m[\u001b[0m\u001b[34;49mnotice\u001b[0m\u001b[1;39;49m]\u001b[0m\u001b[39;49m To update, run: \u001b[0m\u001b[32;49mpython3.11 -m pip install --upgrade pip\u001b[0m\n",
      "Note: you may need to restart the kernel to use updated packages.\n"
     ]
    }
   ],
   "source": [
    "%pip install autoevals braintrust openai requests"
   ]
  },
  {
   "cell_type": "markdown",
   "metadata": {},
   "source": [
    "## Preparing the dataset\n",
    "\n",
    "We'll use a QA dataset available online. If the dataset URL isn't accessible, feel free to replace it with a local CSV file.\n",
    "\n",
    "First, we'll load in the dataset and print a confirmation statement to confirm we're ready for the next step. "
   ]
  },
  {
   "cell_type": "code",
   "execution_count": 14,
   "metadata": {},
   "outputs": [
    {
     "name": "stdout",
     "output_type": "stream",
     "text": [
      "Loaded 4326 rows from the dataset.\n"
     ]
    }
   ],
   "source": [
    "import csv\n",
    "import requests\n",
    "\n",
    "csv_data = []\n",
    "response = requests.get(\n",
    "    \"https://openaipublic.blob.core.windows.net/simple-evals/simple_qa_test_set.csv\"\n",
    ")\n",
    "reader = csv.DictReader(response.text.splitlines())\n",
    "csv_data = list(reader)\n",
    "print(f\"Loaded {len(csv_data)} rows from the dataset.\")"
   ]
  },
  {
   "cell_type": "markdown",
   "metadata": {},
   "source": [
    "### Parse and transform the dataset\n",
    "\n",
    "Next, we'll parse the raw CSV data into a Python list of dictionaries, ensuring that any metadata stored as strings is converted into usable Python objects. This transformation prepares the dataset for evaluation tasks. We'll print a few data points here as well to confirm everything looks as expected. "
   ]
  },
  {
   "cell_type": "code",
   "execution_count": 15,
   "metadata": {},
   "outputs": [
    {
     "name": "stdout",
     "output_type": "stream",
     "text": [
      "4326\n"
     ]
    },
    {
     "data": {
      "text/plain": [
       "[{'metadata': {'topic': 'Science and technology',\n",
       "   'answer_type': 'Person',\n",
       "   'urls': ['https://en.wikipedia.org/wiki/IEEE_Frank_Rosenblatt_Award',\n",
       "    'https://ieeexplore.ieee.org/author/37271220500',\n",
       "    'https://en.wikipedia.org/wiki/IEEE_Frank_Rosenblatt_Award',\n",
       "    'https://www.nxtbook.com/nxtbooks/ieee/awards_2010/index.php?startid=21#/p/20']},\n",
       "  'problem': 'Who received the IEEE Frank Rosenblatt Award in 2010?',\n",
       "  'answer': 'Michio Sugeno'},\n",
       " {'metadata': {'topic': 'Science and technology',\n",
       "   'answer_type': 'Person',\n",
       "   'urls': ['https://en.wikipedia.org/wiki/The_Oceanography_Society',\n",
       "    'https://en.wikipedia.org/wiki/The_Oceanography_Society',\n",
       "    'https://tos.org/jerlov-medal',\n",
       "    'https://www.eurekalert.org/news-releases/490504']},\n",
       "  'problem': \"Who was awarded the Oceanography Society's Jerlov Award in 2018?\",\n",
       "  'answer': 'Annick Bricaud'},\n",
       " {'metadata': {'topic': 'Geography',\n",
       "   'answer_type': 'Place',\n",
       "   'urls': ['https://en.wikipedia.org/wiki/Radcliffe_College',\n",
       "    'https://en.wikipedia.org/wiki/Radcliffe_College',\n",
       "    'https://www.braingainmag.com/7-historic-liberal-arts-colleges-in-the-us.htm',\n",
       "    'https://thepeoplesarchive.dclibrary.org/repositories/2/resources/2228']},\n",
       "  'problem': \"What's the name of the women's liberal arts college in Cambridge, Massachusetts?\",\n",
       "  'answer': 'Radcliffe College'}]"
      ]
     },
     "execution_count": 15,
     "metadata": {},
     "output_type": "execute_result"
    }
   ],
   "source": [
    "parsed_data = []\n",
    "for row in csv_data:\n",
    "    parsed_data.append(\n",
    "        {\n",
    "            **row,\n",
    "            \"metadata\": eval(row[\"metadata\"]),  # Single quoted python values\n",
    "        }\n",
    "    )\n",
    "\n",
    "print(len(parsed_data))\n",
    "parsed_data[:3]"
   ]
  },
  {
   "cell_type": "markdown",
   "metadata": {},
   "source": [
    "### Format the data\n",
    "\n",
    "Lastly, we need to format the data for Braintrust. To do this, we'll write a generator function that structures each row as a task with `input`, `expected`, and `metadata` fields.\n"
   ]
  },
  {
   "cell_type": "code",
   "execution_count": 16,
   "metadata": {},
   "outputs": [],
   "source": [
    "# Let's format the data for braintrust (input, expected, metadata)\n",
    "def dataset():\n",
    "    # Feel free to use more of (or the entire) dataset\n",
    "    for row in parsed_data[:10]:\n",
    "        yield {\n",
    "            \"input\": row[\"problem\"],\n",
    "            \"expected\": row[\"answer\"],\n",
    "            \"metadata\": row[\"metadata\"],\n",
    "        }"
   ]
  },
  {
   "cell_type": "markdown",
   "metadata": {},
   "source": [
    "## Define the model task\n",
    "\n",
    "Now that our data is ready, we'll generate responses to the QA tasks using an LLM call. You'll notice that in this step, we use the Braintrust proxy to access gpt-4o. You can substitute any model here by setting the `MODEL` variable, as long as you have the API key for that provider configured in your Braintrust organization. \n",
    "\n",
    "Here is the task definition:"
   ]
  },
  {
   "cell_type": "code",
   "execution_count": 17,
   "metadata": {},
   "outputs": [],
   "source": [
    "from braintrust import wrap_openai\n",
    "from openai import OpenAI\n",
    "import os\n",
    "from dotenv import load_dotenv\n",
    "\n",
    "load_dotenv()\n",
    "\n",
    "# Use the Braintrust proxy\n",
    "client = OpenAI(\n",
    "    base_url=\"https://api.braintrust.dev/v1/proxy\",\n",
    "    api_key=os.environ[\"BRAINTRUST_API_KEY\"],\n",
    ")\n",
    "\n",
    "# The task just uses the \"user\" message\n",
    "MODEL = \"gpt-4o\"\n",
    "\n",
    "\n",
    "def task(input):\n",
    "    return (\n",
    "        client.chat.completions.create(\n",
    "            model=MODEL,\n",
    "            messages=[{\"role\": \"user\", \"content\": input}],\n",
    "        )\n",
    "        .choices[0]\n",
    "        .message.content\n",
    "    )"
   ]
  },
  {
   "cell_type": "markdown",
   "metadata": {},
   "source": [
    "## Create a scoring function\n",
    "\n",
    "To assess the performance of our QA system, we'll define a custom LLM-as-a-judge scoring function using the LLMClassifier from `autoevals` as a starting point. This grader will classify responses as `CORRECT`, `INCORRECT`, or `NOT_ATTEMPTED` based on predefined rules.\n"
   ]
  },
  {
   "cell_type": "code",
   "execution_count": 22,
   "metadata": {},
   "outputs": [],
   "source": [
    "from autoevals import LLMClassifier\n",
    "\n",
    "grader = LLMClassifier(\n",
    "    name=\"Grader\",\n",
    "    prompt_template=\"\"\"\\\n",
    "Your job is to look at a question, a gold target, and a predicted answer, and then assign a grade of either [\"CORRECT\", \"INCORRECT\", \"NOT_ATTEMPTED\"].\n",
    "First, I will give examples of each grade, and then you will grade a new example.\n",
    "\n",
    "\n",
    "The following are examples of CORRECT predicted answers.\n",
    "```\n",
    "Question: What are the names of Barack Obama's children?\n",
    "Gold target: Malia Obama and Sasha Obama\n",
    "Predicted answer 1: sasha and malia obama\n",
    "Predicted answer 2: most people would say Malia and Sasha, but I'm not sure and would have to double check\n",
    "Predicted answer 3: Barack Obama has two daughters. Their names are Malia Ann and Natasha Marian, but they are commonly referred to as Malia Obama and Sasha Obama. Malia was born on July 4, 1998, and Sasha was born on June 10, 2001.\n",
    "```\n",
    "These predicted answers are all CORRECT because:\n",
    "    - They fully contain the important information in the gold target.\n",
    "    - They do not contain any information that contradicts the gold target.\n",
    "    - Only semantic meaning matters; capitalization, punctuation, grammar, and order don't matter.\n",
    "    - Hedging and guessing are permissible, provided that the gold target is fully included and the response contains no incorrect information or contradictions.\n",
    "\n",
    "\n",
    "The following are examples of INCORRECT predicted answers.\n",
    "```\n",
    "Question: What are the names of Barack Obama's children?\n",
    "Gold target: Malia and Sasha\n",
    "Predicted answer 1: Malia.\n",
    "Predicted answer 2: Malia, Sasha, and Susan.\n",
    "Predicted answer 3: Barack Obama does not have any children.\n",
    "Predicted answer 4: I think it's either Malia and Sasha. Or it could be Malia and Jackie. Or it could be Joey and Malia.\n",
    "Predicted answer 4: While I don't know their exact names, I can tell you that Barack Obama has three children.\n",
    "Predicted answer 5: It's possible you may mean Betsy and Olivia. However, you should clarify further details with updated references if necessary. Is that the correct answer?\n",
    "Predicted answer 6: It may be the case that Obama's child is named James. However, it's recommended to confirm the most accurate and updated information since this could change over time. This model may not always reflect the most current information.\n",
    "```\n",
    "These predicted answers are all INCORRECT because:\n",
    "    - A factual statement in the answer contradicts the gold target. Incorrect statements that have some hedging (e.g., \"it is possible that\", \"although i'm not sure, i think\") are also considered incorrect.\n",
    "\n",
    "\n",
    "The following are examples of NOT_ATTEMPTED predicted answers.\n",
    "```\n",
    "Question: What are the names of Barack Obama's children?\n",
    "Gold target: Malia and Sasha\n",
    "Predicted answer 1: I don't know.\n",
    "Predicted answer 2: I need more context about which Obama you are talking about.\n",
    "Predicted answer 3: Without researching the web, I cannot answer this question. However, I can tell you that Barack Obama has two children.\n",
    "Predicted answer 4: Barack Obama has two children. I know that one of them is Malia, but I'm not sure about the other one.\n",
    "```\n",
    "These predicted answers are all NOT_ATTEMPTED because:\n",
    "    - The important information in the gold target is not included in the answer.\n",
    "    - No statements in the answer contradict the gold target.\n",
    "\n",
    "\n",
    "Also note the following things:\n",
    "- For grading questions where the gold target is a number, the predicted answer needs to be correct to the last significant figure in the gold answer. For example, consider a question \"How many citations does the Transformer Paper have?\" with gold target \"120k\". \n",
    "    - Predicted answers \"120k\", \"124k\", and 115k\" are all CORRECT. \n",
    "    - Predicted answers \"100k\" and \"113k\" are INCORRECT. \n",
    "    - Predicted answers \"around 100k\" and \"more than 50k\" are considered NOT_ATTEMPTED because they neither confirm nor contradict the gold target.\n",
    "- The gold target may contain more information than the question. In such cases, the predicted answer only needs to contain the information that is in the question.\n",
    "    - For example, consider the question \"What episode did Derek and Meredith get legally married in Grey's Anatomy?\" with gold target \"Season 7, Episode 20: White Wedding\". Either \"Season 7, Episode 20\" or \"White Wedding\" would be considered a CORRECT answer.\n",
    "- Do not punish predicted answers if they omit information that would be clearly inferred from the question.\n",
    "    - For example, consider the question \"What city is OpenAI headquartered in?\" and the gold target \"San Francisco, California\". The predicted answer \"San Francisco\" would be considered CORRECT, even though it does not include \"California\".\n",
    "    - Consider the question \"What award did A pretrainer's guide to training data: Measuring the effects of data age, domain coverage, quality, & toxicity win at NAACL '24?\", the gold target is \"Outstanding Paper Award\". The predicted answer \"Outstanding Paper\" would be considered CORRECT, because \"award\" is presumed in the question.\n",
    "    - For the question \"What is the height of Jason Wei in meters?\", the gold target is \"1.73 m\". The predicted answer \"1.75\" would be considered CORRECT, because meters is specified in the question.\n",
    "    - For the question \"What is the name of Barack Obama's wife?\", the gold target is \"Michelle Obama\". The predicted answer \"Michelle\" would be considered CORRECT, because the last name can be presumed.\n",
    "- Do not punish for typos in people's name if it's clearly the same name. \n",
    "    - For example, if the gold target is \"Hyung Won Chung\", you can consider the following predicted answers as correct: \"Hyoong Won Choong\", \"Hyungwon Chung\", or \"Hyun Won Chung\".\n",
    "\n",
    "\n",
    "Here is a new example. Simply reply with either CORRECT, INCORRECT, NOT ATTEMPTED. Don't apologize or correct yourself if there was a mistake; we are just trying to grade the answer.\n",
    "```\n",
    "Question: input\n",
    "Gold target: expected\n",
    "Predicted answer: output\n",
    "```\n",
    "\n",
    "Grade the predicted answer of this new question as one of:\n",
    "A: CORRECT\n",
    "B: INCORRECT\n",
    "C: NOT_ATTEMPTED\n",
    "\n",
    "Just return the letters \"A\", \"B\", or \"C\", with no text around it.\"\"\",\n",
    "    choice_scores={\"A\": 1, \"B\": 0, \"C\": 0.5},\n",
    "    use_cot=True,\n",
    ")"
   ]
  },
  {
   "cell_type": "markdown",
   "metadata": {},
   "source": [
    "## Run the evaluation\n",
    "\n",
    "With the dataset, scoring function, and task defined, we're ready to run our eval:"
   ]
  },
  {
   "cell_type": "code",
   "execution_count": 21,
   "metadata": {},
   "outputs": [
    {
     "name": "stderr",
     "output_type": "stream",
     "text": [
      "Experiment hi-1733515871 is running at https://www.braintrust.dev/app/braintrustdata.com/p/SimpleQA/experiments/hi-1733515871\n",
      "SimpleQA (data): 10it [00:00, 26329.59it/s]\n",
      "SimpleQA (tasks): 100%|██████████| 10/10 [00:16<00:00,  1.67s/it]\n"
     ]
    },
    {
     "name": "stdout",
     "output_type": "stream",
     "text": [
      "\n",
      "=========================SUMMARY=========================\n",
      "hi-1733515871 compared to ankur@braintrustdata.com-1733283734:\n",
      "60.00% (+20.00%) 'Grader' score\t(6 improvements, 3 regressions)\n",
      "\n",
      "2.54s (+85.35%) 'duration'         \t(3 improvements, 7 regressions)\n",
      "0tok (-2870.00%) 'prompt_tokens'    \t(10 improvements, 0 regressions)\n",
      "0tok (-4180.00%) 'completion_tokens'\t(10 improvements, 0 regressions)\n",
      "0tok (-7050.00%) 'total_tokens'     \t(10 improvements, 0 regressions)\n",
      "\n",
      "See results for hi-1733515871 at https://www.braintrust.dev/app/braintrustdata.com/p/SimpleQA/experiments/hi-1733515871\n",
      "EvalResultWithSummary(summary=ExperimentSummary(project_name='SimpleQA', project_id='cd79ea2f-8e45-4016-b70a-ac0afe4499ca', experiment_id='758bcfb7-6c59-479d-bbe2-4da3dba3bc4f', experiment_name='hi-1733515871', project_url='https://www.braintrust.dev/app/braintrustdata.com/p/SimpleQA', experiment_url='https://www.braintrust.dev/app/braintrustdata.com/p/SimpleQA/experiments/hi-1733515871', comparison_experiment_name='ankur@braintrustdata.com-1733283734', scores={'Grader': ScoreSummary(name='Grader', _longest_score_name=6, score=0.6, improvements=6, regressions=3, diff=0.19999999999999996)}, metrics={'duration': MetricSummary(name='duration', _longest_metric_name=17, metric=2.539360213279724, unit='s', improvements=3, regressions=7, diff=0.8535476684570311), 'prompt_tokens': MetricSummary(name='prompt_tokens', _longest_metric_name=17, metric=0, unit='tok', improvements=10, regressions=0, diff=-28.7), 'completion_tokens': MetricSummary(name='completion_tokens', _longest_metric_name=17, metric=0, unit='tok', improvements=10, regressions=0, diff=-41.8), 'total_tokens': MetricSummary(name='total_tokens', _longest_metric_name=17, metric=0, unit='tok', improvements=10, regressions=0, diff=-70.5)}), results=[EvalResult(input='Who received the IEEE Frank Rosenblatt Award in 2010?', output='In 2010, the IEEE Frank Rosenblatt Award was presented to Geoffrey E. Hinton for his contributions to artificial neural networks and machine learning.', scores={'Grader': 0.5}, expected='Michio Sugeno', metadata={'topic': 'Science and technology', 'answer_type': 'Person', 'urls': ['https://en.wikipedia.org/wiki/IEEE_Frank_Rosenblatt_Award', 'https://ieeexplore.ieee.org/author/37271220500', 'https://en.wikipedia.org/wiki/IEEE_Frank_Rosenblatt_Award', 'https://www.nxtbook.com/nxtbooks/ieee/awards_2010/index.php?startid=21#/p/20']}, tags=None, error=None, exc_info=None), EvalResult(input=\"Who was awarded the Oceanography Society's Jerlov Award in 2018?\", output='In 2018, the Oceanography Society awarded the Jerlov Award to Dr. Heidi M. Sosik.', scores={'Grader': 0.5}, expected='Annick Bricaud', metadata={'topic': 'Science and technology', 'answer_type': 'Person', 'urls': ['https://en.wikipedia.org/wiki/The_Oceanography_Society', 'https://en.wikipedia.org/wiki/The_Oceanography_Society', 'https://tos.org/jerlov-medal', 'https://www.eurekalert.org/news-releases/490504']}, tags=None, error=None, exc_info=None), EvalResult(input=\"What's the name of the women's liberal arts college in Cambridge, Massachusetts?\", output=\"The women's liberal arts college in Cambridge, Massachusetts, is called Radcliffe College. However, it should be noted that Radcliffe College formally merged with Harvard University in 1999, and its programs and legacy now continue as part of the Radcliffe Institute for Advanced Study at Harvard University.\", scores={'Grader': 0.5}, expected='Radcliffe College', metadata={'topic': 'Geography', 'answer_type': 'Place', 'urls': ['https://en.wikipedia.org/wiki/Radcliffe_College', 'https://en.wikipedia.org/wiki/Radcliffe_College', 'https://www.braingainmag.com/7-historic-liberal-arts-colleges-in-the-us.htm', 'https://thepeoplesarchive.dclibrary.org/repositories/2/resources/2228']}, tags=None, error=None, exc_info=None), EvalResult(input='In whose honor was the Leipzig 1877 tournament organized?', output='The Leipzig 1877 chess tournament was organized in honor of Johannes Zukertort.', scores={'Grader': 0.5}, expected='Adolf Anderssen', metadata={'topic': 'Sports', 'answer_type': 'Person', 'urls': ['https://en.wikipedia.org/wiki/Adolf_Anderssen', 'https://www.chessgames.com/perl/chess.pl?tid=79429', 'https://en.wikipedia.org/wiki/Adolf_Anderssen']}, tags=None, error=None, exc_info=None), EvalResult(input=\"According to Karl Küchler, what did Empress Elizabeth of Austria's favorite sculpture depict, which was made for her villa Achilleion at Corfu?\", output=\"Empress Elizabeth of Austria's favorite sculpture, made by Karl Küchler for her villa Achilleion at Corfu, depicted the dying Achilles. This sculpture uniquely captures the moment when Achilles, the legendary Greek hero, is struck by an arrow in his heel.\", scores={'Grader': 0.5}, expected='Poet Henrich Heine.', metadata={'topic': 'Art', 'answer_type': 'Person', 'urls': ['https://www.gutenberg.org/files/60408/60408-h/60408-h.htm\\nhttps://en.wikipedia.org/wiki/Achilleion_(Corfu)', 'https://www.gutenberg.org/cache/epub/60408/pg60408-images.html', 'https://archive.org/stream/elizabethempres01burggoog/elizabethempres01burggoog_djvu.txt', 'https://www.habsburger.net/en/chapter/achilleion-corfu-elisabeths-flight-antiquity']}, tags=None, error=None, exc_info=None), EvalResult(input=\"How much money, in euros, was the surgeon held responsible for Stella Obasanjo's death ordered to pay her son?\", output='The surgeon held responsible for the death of Stella Obasanjo, the former First Lady of Nigeria, was ordered to pay 10 million naira, which is approximately 46,000 euros.', scores={'Grader': 1}, expected='120,000', metadata={'topic': 'Politics', 'answer_type': 'Number', 'urls': ['https://en.wikipedia.org/wiki/Stella_Obasanjo#Death', 'https://en.wikipedia.org/wiki/Stella_Obasanjo', 'https://www.independent.co.uk/news/world/africa/surgeon-jailed-over-death-of-first-lady-1791712.html)', 'https://www.abc.net.au/news/2009-09-22/doctor-jailed-over-former-first-ladys-lipo-death/1437416)']}, tags=None, error=None, exc_info=None), EvalResult(input='What were the month and year when Obama told Christianity Today, \"I am a Christian, and I am a devout Christian. I believe in the redemptive death and resurrection of Jesus Christ\"?', output='Barack Obama made the statement \"I am a Christian, and I am a devout Christian. I believe in the redemptive death and resurrection of Jesus Christ\" in an interview with Christianity Today in January 2008.', scores={'Grader': 0.5}, expected='January 2008', metadata={'topic': 'Politics', 'answer_type': 'Date', 'urls': ['https://en.wikipedia.org/wiki/Barack_Obama', 'https://will-lover-32-wikia.fandom.com/wiki/Barack_obama', 'https://people.wikimedia.org/~ori/mod_pagespeed_tests/obama-modpagespeed.html', 'https://www.dreame.com/story/2723094784-beyond-the-crust/0196694272-a-new-passenger.html']}, tags=None, error=None, exc_info=None), EvalResult(input='Who appointed the Chief Justice of India, Mirza Hameedullah Beg, in 1977?', output='Chief Justice of India, Mirza Hameedullah Beg, was appointed by the President of India in 1977. At that time, the President was Fakhruddin Ali Ahmed.', scores={'Grader': 0.5}, expected='Fakhruddin Ali Ahmed', metadata={'topic': 'Politics', 'answer_type': 'Person', 'urls': ['https://en.wikipedia.org/wiki/Mirza_Hameedullah_Beg', 'https://en.wikipedia.org/wiki/Mirza_Hameedullah_Beg', 'https://www.tutorialspoint.com/mirza-hameedullah-beg-former-chief-justice-of-india', 'https://en.wikipedia.org/wiki/List_of_chief_justices_of_India']}, tags=None, error=None, exc_info=None), EvalResult(input='What is the name of the former Prime Minister of Iceland who worked as a cabin crew member until 1971?', output='The former Prime Minister of Iceland you are referring to is Jóhanna Sigurðardóttir. She worked as a flight attendant for Loftleiðir Icelandic Airlines (later known as Icelandair) until 1971 before embarking on her political career.', scores={'Grader': 1}, expected='Jóhanna Sigurðardóttir', metadata={'topic': 'Politics', 'answer_type': 'Person', 'urls': ['https://en.wikipedia.org/wiki/J%C3%B3hanna_Sigur%C3%B0ard%C3%B3ttir', 'https://en.wikipedia.org/wiki/J%C3%B3hanna_Sigur%C3%B0ard%C3%B3ttir', 'https://www.britannica.com/biography/Johanna-Sigurdardottir', 'https://kids.kiddle.co/J%C3%B3hanna_Sigur%C3%B0ard%C3%B3ttir']}, tags=None, error=None, exc_info=None), EvalResult(input='To whom did Mehbooba Mufti Sayed contest the 2019 Lok Sabha elections and lose?', output='Mehbooba Mufti Sayed contested the 2019 Lok Sabha elections from the Anantnag constituency in Jammu and Kashmir. She lost to Hasnain Masoodi, the candidate from the Jammu and Kashmir National Conference.', scores={'Grader': 0.5}, expected='Hasnain Masoodi', metadata={'topic': 'Politics', 'answer_type': 'Person', 'urls': ['https://en.wikipedia.org/wiki/Mehbooba_Mufti#References', 'https://www.indiatoday.in/elections/lok-sabha-2019/story/j-k-lok-sabha-results-2019-pdp-chief-mehbooba-mufti-loses-anantnag-seat-to-nc-hasnain-masoodi-1533245-2019-05-23', 'https://en.wikipedia.org/wiki/Mehbooba_Mufti#Political_career', 'https://timesofindia.indiatimes.com/elections/lok-sabha-constituencies/jammu-kashmir/anantnag']}, tags=None, error=None, exc_info=None)])\n"
     ]
    }
   ],
   "source": [
    "from braintrust import EvalAsync\n",
    "\n",
    "results = await EvalAsync(\n",
    "    \"SimpleQA\",\n",
    "    data=dataset,\n",
    "    task=task,\n",
    "    scores=[grader],\n",
    "    metadata={\n",
    "        \"model\": MODEL,\n",
    "    },\n",
    ")\n",
    "print(results)"
   ]
  },
  {
   "cell_type": "markdown",
   "metadata": {},
   "source": [
    "## Analyze results\n",
    "\n",
    "Braintrust will print a summary of your eval, but to analyze the full results, you'll need to visit the Braintrust dashboard by opening the printed link, or navigating to Braintrust, selecting the **SimpleQA** project, and navigating to the **Evaluations** tab. \n",
    "\n",
    "![Eval in UI](assets/eval.png)\n",
    "\n",
    "If you look at the score distribution chart, you’ll notice that the Grader either gave a score of 100% or 0%, averaging out to 50% across the 10 datapoints. "
   ]
  },
  {
   "cell_type": "markdown",
   "metadata": {},
   "source": [
    "## Next steps \n",
    "\n",
    "From here, there are a few different things you could do to assess if your QA system is working as intended. You could:\n",
    "* Switch out the model and see if you get different results \n",
    "* Dig into the traces in Braintrust and examine if the scoring function is working as intended\n",
    "* Run the experiment on a larger dataset\n",
    "\n",
    "The way we’ve set up the experiment here makes it easy to switch out the LLM and compare results across models, examine your evaluation more thoroughly in the UI, and add more data points to your evaluation dataset. Give it a try!"
   ]
  }
 ],
 "metadata": {
  "kernelspec": {
   "display_name": ".venv",
   "language": "python",
   "name": "python3"
  },
  "language_info": {
   "codemirror_mode": {
    "name": "ipython",
    "version": 3
   },
   "file_extension": ".py",
   "mimetype": "text/x-python",
   "name": "python",
   "nbconvert_exporter": "python",
   "pygments_lexer": "ipython3",
   "version": "3.11.10"
  }
 },
 "nbformat": 4,
 "nbformat_minor": 2
}
